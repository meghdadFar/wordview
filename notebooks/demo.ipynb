{
 "cells": [
  {
   "cell_type": "markdown",
   "id": "192d9a97",
   "metadata": {},
   "source": [
    "## Installtion and Links"
   ]
  },
  {
   "cell_type": "code",
   "execution_count": 1,
   "id": "21155605",
   "metadata": {},
   "outputs": [],
   "source": [
    "# pip install wordview\n",
    "# GitHub: https://github.com/meghdadFar/wordview\n",
    "# Demo: https://github.com/meghdadFar/wordview/blob/main/notebooks/demo.ipynb\n",
    "# Docs: https://github.com/meghdadFar/wordview/tree/main/docs"
   ]
  },
  {
   "cell_type": "markdown",
   "id": "b5537aac",
   "metadata": {},
   "source": [
    "## Imports"
   ]
  },
  {
   "cell_type": "code",
   "execution_count": 2,
   "id": "cd3a6599",
   "metadata": {},
   "outputs": [],
   "source": [
    "import pandas as pd\n",
    "import numpy as np\n",
    "import random\n",
    "import json\n",
    "from wordview.text_analysis import TextStatsPlots, LabelStatsPlots\n",
    "\n",
    "# Ensure plots are properly rendered in Jupyter Lab\n",
    "import plotly.io as pio\n",
    "pio.renderers.default = 'iframe'"
   ]
  },
  {
   "cell_type": "markdown",
   "id": "1b932901",
   "metadata": {},
   "source": [
    "## Data"
   ]
  },
  {
   "cell_type": "code",
   "execution_count": 3,
   "id": "48587d0d",
   "metadata": {},
   "outputs": [],
   "source": [
    "imdb_df = pd.read_csv(\"../data/IMDB_Dataset_sample_5k.csv\")"
   ]
  },
  {
   "cell_type": "markdown",
   "id": "cc8b99a9",
   "metadata": {},
   "source": []
  },
  {
   "cell_type": "markdown",
   "id": "8c578bb0",
   "metadata": {},
   "source": [
    "## General Analysis of Text and Labels"
   ]
  },
  {
   "cell_type": "code",
   "execution_count": 4,
   "id": "1a67b922",
   "metadata": {},
   "outputs": [
    {
     "name": "stderr",
     "output_type": "stream",
     "text": [
      "core            - 335 - INFO - Processing text in review column of the input DataFrame...\n",
      "  9%|▉         | 454/5000 [00:03<00:30, 151.49it/s]core            - 353 - WARNING - Processing entry --- . . . or type on a computer keyboard, they'd probably give this eponymous film a rating of \"10.\" After all, no elephants are shown being killed during the movie; it is not even implied that any are hurt. To the contrary, the master of ELEPHANT WALK, John Wiley (Peter Finch), complains that he cannot shoot any of the pachyderms--no matter how menacing--without a permit from the government (and his tone suggests such permits are not within the realm of probability). Furthermore, the elements conspire--in the form of an unusual drought and a human cholera epidemic--to leave the Wiley plantation house vulnerable to total destruction by the Elephant People (as the natives dub them) to close the story. If you happen to see the current release EARTH, you'll detect the Elephant People are faring less well today. --- lead to exception: list index out of range\n",
      "100%|██████████| 5000/5000 [00:34<00:00, 144.33it/s]\n",
      "core            - 378 - INFO - Calculating Empirical and Theoretical Zipf values...\n",
      "core            - 383 - INFO - Time to measure predicted proportion for 91510 rows: 0.02987194061279297\n"
     ]
    }
   ],
   "source": [
    "tsp = TextStatsPlots(df=imdb_df, text_column='review')"
   ]
  },
  {
   "cell_type": "markdown",
   "id": "563ad310",
   "metadata": {},
   "source": [
    "### Chat"
   ]
  },
  {
   "cell_type": "markdown",
   "id": "b2bbbc42",
   "metadata": {},
   "source": [
    "### Describe"
   ]
  },
  {
   "cell_type": "code",
   "execution_count": 4,
   "id": "9bad5bb6",
   "metadata": {},
   "outputs": [
    {
     "name": "stdout",
     "output_type": "stream",
     "text": [
      "┌───────────────────┬─────────┐\n",
      "│ Language/s        │ EN      │\n",
      "├───────────────────┼─────────┤\n",
      "│ Unique Words      │ 91,510  │\n",
      "├───────────────────┼─────────┤\n",
      "│ All Words         │ 624,945 │\n",
      "├───────────────────┼─────────┤\n",
      "│ Documents         │ 5,000   │\n",
      "├───────────────────┼─────────┤\n",
      "│ Median Doc Length │ 174.0   │\n",
      "├───────────────────┼─────────┤\n",
      "│ Nouns             │ 56,995  │\n",
      "├───────────────────┼─────────┤\n",
      "│ Adjectives        │ 32,189  │\n",
      "├───────────────────┼─────────┤\n",
      "│ Verbs             │ 21,240  │\n",
      "├───────────────────┼─────────┤\n",
      "│ Proper Nouns      │ 5,663   │\n",
      "├───────────────────┼─────────┤\n",
      "│ Adverbs           │ 5,759   │\n",
      "└───────────────────┴─────────┘\n"
     ]
    }
   ],
   "source": [
    "tsp.show_stats()"
   ]
  },
  {
   "cell_type": "markdown",
   "id": "e9b39097",
   "metadata": {},
   "source": [
    "### Distributions"
   ]
  },
  {
   "cell_type": "code",
   "execution_count": 40,
   "id": "bc3ad86b",
   "metadata": {},
   "outputs": [
    {
     "data": {
      "text/html": [
       "<iframe\n",
       "    scrolling=\"no\"\n",
       "    width=\"100%\"\n",
       "    height=\"545px\"\n",
       "    src=\"iframe_figures/figure_40.html\"\n",
       "    frameborder=\"0\"\n",
       "    allowfullscreen\n",
       "></iframe>\n"
      ]
     },
     "metadata": {},
     "output_type": "display_data"
    }
   ],
   "source": [
    "# tsp.show_distplot('doc_len')\n",
    "\n",
    "# You can customize the layout using the argument: `layout_settings`.\n",
    "# E.g.\n",
    "layout_settings = {'plot_bgcolor':'rgba(245, 245, 245, 1)',\n",
    "                   'paper_bgcolor': 'rgba(255, 255, 255, 1)',\n",
    "                   'hovermode': 'y'\n",
    "                  }\n",
    "# For a full list of possible options, see:\n",
    "# https://plotly.com/python/reference/layout/\n",
    "\n",
    "\n",
    "plot_settings = {'color': 'chartreuse'}\n",
    "# aliceblue, antiquewhite, aqua, aquamarine, azure,\n",
    "# beige, bisque, black, blanchedalmond, blue,\n",
    "# blueviolet, brown, burlywood, cadetblue,\n",
    "# chartreuse, chocolate, coral, cornflowerblue,\n",
    "# cornsilk, crimson, cyan, darkblue, darkcyan,\n",
    "# darkgoldenrod, darkgray, darkgrey, darkgreen,\n",
    "tsp.show_distplot('doc_len',\n",
    "                  layout_settings=layout_settings,\n",
    "                  plot_settings=plot_settings)"
   ]
  },
  {
   "cell_type": "code",
   "execution_count": 41,
   "id": "267b3798",
   "metadata": {},
   "outputs": [
    {
     "data": {
      "text/html": [
       "<iframe\n",
       "    scrolling=\"no\"\n",
       "    width=\"100%\"\n",
       "    height=\"545px\"\n",
       "    src=\"iframe_figures/figure_41.html\"\n",
       "    frameborder=\"0\"\n",
       "    allowfullscreen\n",
       "></iframe>\n"
      ]
     },
     "metadata": {},
     "output_type": "display_data"
    }
   ],
   "source": [
    "plot_settings = {'theoritical_zipf_colorscale': 'Reds',\n",
    "                 'emperical_zipf_colorscale': 'Greens',\n",
    "                 'mode': 'markers'}\n",
    "layout_settings = {'plot_bgcolor':'rgba(245, 245, 245, 1)',\n",
    "                   'paper_bgcolor': 'rgba(255, 255, 255, 1)',\n",
    "                   'hovermode': 'y'\n",
    "                  }\n",
    "tsp.show_distplot('word_frequency_zipf',\n",
    "                  layout_settings=layout_settings,\n",
    "                  plot_settings=plot_settings)\n",
    "# https://medium.com/@_init_/using-zipfs-law-to-improve-neural-language-models-4c3d66e6d2f6"
   ]
  },
  {
   "cell_type": "markdown",
   "id": "c0c555b4",
   "metadata": {},
   "source": [
    "### Word Clouds"
   ]
  },
  {
   "cell_type": "code",
   "execution_count": 42,
   "id": "03713791",
   "metadata": {},
   "outputs": [
    {
     "data": {
      "text/html": [
       "<iframe\n",
       "    scrolling=\"no\"\n",
       "    width=\"100%\"\n",
       "    height=\"545px\"\n",
       "    src=\"iframe_figures/figure_42.html\"\n",
       "    frameborder=\"0\"\n",
       "    allowfullscreen\n",
       "></iframe>\n"
      ]
     },
     "metadata": {},
     "output_type": "display_data"
    }
   ],
   "source": [
    "layout_settings = {'plot_bgcolor':'rgba(245, 245, 245, 1)',\n",
    "                   'paper_bgcolor': 'rgba(255, 255, 255, 1)',\n",
    "                   'hovermode': 'y'\n",
    "                  }\n",
    "\n",
    "plot_settings = {'color': 'darkgreen',\n",
    "                 'max_words': 200}\n",
    "tsp.show_word_clouds('VB', layout_settings=layout_settings, plot_settings=plot_settings)\n",
    "# tsp.show_word_clouds('NN')\n",
    "# tsp.show_word_clouds('JJ')"
   ]
  },
  {
   "cell_type": "markdown",
   "id": "679fb9b5",
   "metadata": {},
   "source": [
    "### Labels"
   ]
  },
  {
   "cell_type": "code",
   "execution_count": 43,
   "id": "85d311f3",
   "metadata": {},
   "outputs": [
    {
     "data": {
      "text/html": [
       "<iframe\n",
       "    scrolling=\"no\"\n",
       "    width=\"100%\"\n",
       "    height=\"545px\"\n",
       "    src=\"iframe_figures/figure_43.html\"\n",
       "    frameborder=\"0\"\n",
       "    allowfullscreen\n",
       "></iframe>\n"
      ]
     },
     "metadata": {},
     "output_type": "display_data"
    }
   ],
   "source": [
    "lsp = LabelStatsPlots(df=imdb_df, label_columns=[('sentiment', 'categorical')])\n",
    "lsp.show_label_plots()"
   ]
  },
  {
   "cell_type": "code",
   "execution_count": 44,
   "id": "31b77e8c",
   "metadata": {},
   "outputs": [
    {
     "data": {
      "text/html": [
       "<iframe\n",
       "    scrolling=\"no\"\n",
       "    width=\"100%\"\n",
       "    height=\"545px\"\n",
       "    src=\"iframe_figures/figure_44.html\"\n",
       "    frameborder=\"0\"\n",
       "    allowfullscreen\n",
       "></iframe>\n"
      ]
     },
     "metadata": {},
     "output_type": "display_data"
    }
   ],
   "source": [
    "imdb_df['numerical_label'] = np.random.randint(1, 500, imdb_df.shape[0])\n",
    "imdb_df['label2'] = random.choices(['a', 'b', 'c', 'd'], [0.2, 0.5, 0.8, 0.9], k=imdb_df.shape[0])\n",
    "imdb_df['numerical_label2'] = np.random.randint(1, 500, imdb_df.shape[0])\n",
    "lsp = LabelStatsPlots(df=imdb_df, label_columns=[('sentiment', 'categorical'),\n",
    "                                                    ('label2', 'categorical'),\n",
    "                                                    ('numerical_label', 'numerical'),\n",
    "                                                    ('numerical_label2', 'numerical')\n",
    "                                                   ]\n",
    "                     )\n",
    "lsp.show_label_plots()"
   ]
  },
  {
   "cell_type": "code",
   "execution_count": 45,
   "id": "30bc2758-cb40-40fd-9c57-07abadc8c9df",
   "metadata": {},
   "outputs": [
    {
     "data": {
      "text/html": [
       "<iframe\n",
       "    scrolling=\"no\"\n",
       "    width=\"100%\"\n",
       "    height=\"545px\"\n",
       "    src=\"iframe_figures/figure_45.html\"\n",
       "    frameborder=\"0\"\n",
       "    allowfullscreen\n",
       "></iframe>\n"
      ]
     },
     "metadata": {},
     "output_type": "display_data"
    }
   ],
   "source": [
    "layout_settings = {'plot_bgcolor':'rgba(245, 245, 245, 1)',\n",
    "                   'paper_bgcolor': 'rgba(255, 255, 255, 1)',\n",
    "                   'hovermode': 'y',\n",
    "                   'coloraxis': {'colorscale': 'peach'},\n",
    "                   'coloraxis_showscale':True\n",
    "                  }\n",
    "# See here for a list of named color scales:\n",
    "# https://plotly.com/python/builtin-colorscales/\n",
    "lsp.show_label_plots(layout_settings=layout_settings)"
   ]
  },
  {
   "cell_type": "markdown",
   "id": "46f38316",
   "metadata": {},
   "source": [
    "## Extraction & Analysis of MWEs"
   ]
  },
  {
   "cell_type": "code",
   "execution_count": 46,
   "id": "b4cbfa32",
   "metadata": {},
   "outputs": [],
   "source": [
    "from wordview.mwes import MWE\n",
    "from wordview.preprocessing import NgramExtractor"
   ]
  },
  {
   "cell_type": "code",
   "execution_count": 47,
   "id": "d5324fbf",
   "metadata": {},
   "outputs": [
    {
     "name": "stderr",
     "output_type": "stream",
     "text": [
      "count           - 66 - WARNING - Could not word tokenize sentence: . ..                               \n",
      "list index out of range.                               \n",
      "Skipping this sentence.\n",
      "dataframe_reader - 40 - WARNING - Could not sentence tokenize text: . . . or type on a computer keyboard, they'd probably give this eponymous film a rating of \"10.\" After all, no elephants are shown being killed during the movie; it is not even implied that any are hurt. To the contrary, the master of ELEPHANT WALK, John Wiley (Peter Finch), complains that he cannot shoot any of the pachyderms--no matter how menacing--without a permit from the government (and his tone suggests such permits are not within the realm of probability). Furthermore, the elements conspire--in the form of an unusual drought and a human cholera epidemic--to leave the Wiley plantation house vulnerable to total destruction by the Elephant People (as the natives dub them) to close the story. If you happen to see the current release EARTH, you'll detect the Elephant People are faring less well today.\n",
      "dataframe_reader - 41 - WARNING - list index out of range\n",
      "count           - 66 - WARNING - Could not word tokenize sentence: . ..                               \n",
      "list index out of range.                               \n",
      "Skipping this sentence.\n"
     ]
    }
   ],
   "source": [
    "# If Ngram extraction was not carried out before, we need to run it here as its results are required by MWE\n",
    "extractor = NgramExtractor(imdb_df, \"review\")\n",
    "extractor.extract_ngrams()\n",
    "ngram_counts = extractor.get_ngram_counts()"
   ]
  },
  {
   "cell_type": "code",
   "execution_count": 48,
   "id": "b784fb69",
   "metadata": {},
   "outputs": [],
   "source": [
    "mwe_obj = MWE(imdb_df, 'review',\n",
    "              ngram_count_source=ngram_counts,\n",
    "              language='EN', \n",
    "              custom_patterns=\"NP: {<DT>?<JJ>*<NN>}\",\n",
    "              only_custom_patterns=False,\n",
    "              )\n",
    "# You can also pass ngram_count_file_path='data/ngram_counts.json' instead.\n",
    "# If no custom_pattern is passed, LVC, 2-3 word NC, ADJ-NC, and VPCs are returnd (up to 4 grams)"
   ]
  },
  {
   "cell_type": "code",
   "execution_count": 50,
   "id": "6906a84a",
   "metadata": {},
   "outputs": [
    {
     "name": "stderr",
     "output_type": "stream",
     "text": [
      "0it [00:00, ?it/s]mwe             - 213 - WARNING - Could not word tokenize sentence: . ..                            \n",
      "list index out of range.                            \n",
      "Skipping this sentence.\n",
      "4651it [00:03, 1267.88it/s]dataframe_reader - 40 - WARNING - Could not sentence tokenize text: . . . or type on a computer keyboard, they'd probably give this eponymous film a rating of \"10.\" After all, no elephants are shown being killed during the movie; it is not even implied that any are hurt. To the contrary, the master of ELEPHANT WALK, John Wiley (Peter Finch), complains that he cannot shoot any of the pachyderms--no matter how menacing--without a permit from the government (and his tone suggests such permits are not within the realm of probability). Furthermore, the elements conspire--in the form of an unusual drought and a human cholera epidemic--to leave the Wiley plantation house vulnerable to total destruction by the Elephant People (as the natives dub them) to close the story. If you happen to see the current release EARTH, you'll detect the Elephant People are faring less well today.\n",
      "dataframe_reader - 41 - WARNING - list index out of range\n",
      "24508it [00:18, 1476.37it/s]mwe             - 213 - WARNING - Could not word tokenize sentence: . ..                            \n",
      "list index out of range.                            \n",
      "Skipping this sentence.\n",
      "52984it [00:39, 1327.42it/s]"
     ]
    },
    {
     "name": "stdout",
     "output_type": "stream",
     "text": [
      "╔════════════════════════╦═══════════════╗\n",
      "║ LVC                    ║   Association ║\n",
      "╠════════════════════════╬═══════════════╣\n",
      "║ predate both Click     ║         34.9  ║\n",
      "║ favorize any sex.      ║         32.66 ║\n",
      "║ fight tooth decay      ║         32.17 ║\n",
      "║ sue these a-holes      ║         31.24 ║\n",
      "║ spur some enterprising ║         31.12 ║\n",
      "║ undergo any catharsis  ║         30.66 ║\n",
      "║ outsmart this egghead  ║         30.64 ║\n",
      "║ apply any sterner      ║         30.33 ║\n",
      "║ grace another set.I    ║         29.63 ║\n",
      "║ announce another PPV   ║         29.59 ║\n",
      "╚════════════════════════╩═══════════════╝\n",
      "\n",
      "╔════════════════════════╦═══════════════╗\n",
      "║ NC2                    ║   Association ║\n",
      "╠════════════════════════╬═══════════════╣\n",
      "║ fantasyland intermixed ║         22.08 ║\n",
      "║ ducat ducats           ║         22.08 ║\n",
      "║ liver pate             ║         22.08 ║\n",
      "║ chenshaw melon         ║         22.08 ║\n",
      "║ raisin loaf            ║         22.08 ║\n",
      "║ enemiesthe Ancients                        ║         22.08 ║\n",
      "║ Audience pleasers      ║         22.08 ║\n",
      "║ pollution additives    ║         22.08 ║\n",
      "║ basalt cliffs          ║         22.08 ║\n",
      "║ rien d'autre           ║         22.08 ║\n",
      "╚════════════════════════╩═══════════════╝\n",
      "\n",
      "╔══════════════════════════════╦═══════════════╗\n",
      "║ ANC2                         ║   Association ║\n",
      "╠══════════════════════════════╬═══════════════╣\n",
      "║ video-clip bummy             ║         22.08 ║\n",
      "║ denim hot-pants              ║         22.08 ║\n",
      "║ love-lorn chevaliers         ║         22.08 ║\n",
      "║ mind-manipulating man-beasts ║         22.08 ║\n",
      "║ involuntary defecation       ║         22.08 ║\n",
      "║ creator67 pipinternet.net    ║         22.08 ║\n",
      "║ hippie-hating androids       ║         22.08 ║\n",
      "║ mayoral candidacy            ║         22.08 ║\n",
      "║ not-stereotypical benny      ║         22.08 ║\n",
      "║ swivel cabinet               ║         22.08 ║\n",
      "╚══════════════════════════════╩═══════════════╝\n",
      "\n",
      "╔════════════════╦═══════════════╗\n",
      "║ VPC            ║   Association ║\n",
      "╠════════════════╬═══════════════╣\n",
      "║ GET OUT        ║         16.76 ║\n",
      "║ revolve around ║         12.76 ║\n",
      "║ bogs down      ║         12.71 ║\n",
      "║ bog down       ║         12.71 ║\n",
      "║ 'shut down     ║         12.71 ║\n",
      "║ curry down     ║         12.71 ║\n",
      "║ Make Out       ║         12.59 ║\n",
      "║ Look Up        ║         12.17 ║\n",
      "║ slobber over   ║         12.08 ║\n",
      "║ 'turn off      ║         12.03 ║\n",
      "╚════════════════╩═══════════════╝\n",
      "\n",
      "╔═════════════════════╦═══════════════╗\n",
      "║ NP                  ║   Association ║\n",
      "╠═════════════════════╬═══════════════╣\n",
      "║ goldtooth chesthair ║         22.08 ║\n",
      "║ NO YELLING          ║         16.5  ║\n",
      "║ wall crawler        ║         16.47 ║\n",
      "║ Tall blond          ║         15.76 ║\n",
      "║ Every brushstroke   ║         15.64 ║\n",
      "║ An induction        ║         14.74 ║\n",
      "║ An ambassador       ║         14.74 ║\n",
      "║ An anti-Fascist     ║         14.74 ║\n",
      "║ An allegation       ║         14.74 ║\n",
      "║ An advicecall                     ║         14.74 ║\n",
      "╚═════════════════════╩═══════════════╝\n"
     ]
    },
    {
     "name": "stderr",
     "output_type": "stream",
     "text": [
      "\n"
     ]
    }
   ],
   "source": [
    "mwes = mwe_obj.extract_mwes(sort=True, top_n=10)\n",
    "#  If you want, you can store the MWE file in a json or any other format\n",
    "# json.dump(mwes, open('data/mwes.json', 'w'), indent=4)\n",
    "mwe_obj.print_mwe_table()"
   ]
  },
  {
   "cell_type": "markdown",
   "id": "9e02c5b0",
   "metadata": {},
   "source": [
    "## Bias Analysis"
   ]
  },
  {
   "cell_type": "markdown",
   "id": "92853b3f",
   "metadata": {},
   "source": [
    "**Important Note**: Please note that the following examples with biases are constructed using an LLM to illustrate the functionality of the bias detection module. They reflect negative stereotypes or biases and are not to be endorsed or perpetuated. "
   ]
  },
  {
   "cell_type": "code",
   "execution_count": 51,
   "id": "15632168-3892-454e-9dcd-32aa0ab53710",
   "metadata": {},
   "outputs": [],
   "source": [
    "from wordview.bias_analysis  import BiasDetector\n",
    "import pandas as pd"
   ]
  },
  {
   "cell_type": "code",
   "execution_count": 52,
   "id": "30d72e14",
   "metadata": {},
   "outputs": [],
   "source": [
    "biased_df = pd.DataFrame(\n",
    "    {\n",
    "        \"text\": [\n",
    "            # Gender\n",
    "            \"He is always so successful because men are naturally gifted.\",\n",
    "            \"She is too emotional to lead; women cannot handle pressure.\",\n",
    "            # Racial\n",
    "            \"Asians are brilliant at mathematics.\",\n",
    "            \"Black people are not fit for this kind of job.\",\n",
    "            \"Indian food is too spicy, and their traditions are too complex to understand.\",\n",
    "            \"Latinos are one of the many ethnic groups in the region.\",  # neutral\n",
    "            \"White people can be found living in many regions around the world.\"\n",
    "            # Religious\n",
    "            \"Christians are the only ones who know the true path to salvation.\",\n",
    "            \"Muslims cannot be trusted in our community.\",\n",
    "            \"Atheists often have a logical and evidence-based approach to understanding the world.\",\n",
    "        ]\n",
    "    }\n",
    ")\n"
   ]
  },
  {
   "cell_type": "code",
   "execution_count": null,
   "id": "6676993e",
   "metadata": {},
   "outputs": [
    {
     "name": "stderr",
     "output_type": "stream",
     "text": [
      "SentenceTransformer - 66 - INFO - Load pretrained SentenceTransformer: distiluse-base-multilingual-cased-v2\n",
      "SentenceTransformer - 105 - INFO - Use pytorch device: cpu\n",
      "0it [00:00, ?it/s]"
     ]
    }
   ],
   "source": [
    "bias_detector = BiasDetector(biased_df, \"text\")\n",
    "bias_detector.detect_bias()"
   ]
  },
  {
   "cell_type": "code",
   "execution_count": null,
   "id": "1baab8cc",
   "metadata": {},
   "outputs": [],
   "source": [
    "cyan_scopecolorscale = [\n",
    "    [0.0, \"#E0FFFF\"],  # Lightest Cyan\n",
    "    [0.25, \"#B3E4E4\"],  # Lighter Cyan\n",
    "    [0.5, \"#66C2C2\"],   # Neutral Cyan\n",
    "    [0.75, \"#339999\"],  # Darker Cyan\n",
    "    [1.0, \"#006666\"],   # Darkest Cyan\n",
    "]\n",
    "\n",
    "built_in_CS = \"algae\"\n",
    "\n",
    "# Example of available colorscales are:\n",
    "# 'aggrnyl', 'agsunset', 'algae', 'amp', 'armyrose', 'balance',\n",
    "# 'blackbody', 'bluered', 'blues', 'blugrn', 'bluyl', 'brbg',\n",
    "# 'brwnyl', 'bugn', 'bupu', 'burg', 'burgyl', 'cividis', 'curl',\n",
    "\n",
    "# You can reverse a colorscale by appending an _r to it, e.g. \n",
    "\n",
    "built_in_CS = \"algae_r\"\n",
    "\n",
    "# See here for a full list:\n",
    "# https://plotly.com/python/builtin-colorscales/\n",
    "\n",
    "bias_detector.show_bias_plot(colorscale=cyan_scopecolorscale)"
   ]
  },
  {
   "cell_type": "code",
   "execution_count": 34,
   "id": "150ee016",
   "metadata": {},
   "outputs": [
    {
     "name": "stdout",
     "output_type": "stream",
     "text": [
      "╔═════════════╦═══════════════╗\n",
      "║ Gender      ║ Bias          ║\n",
      "╠═════════════╬═══════════════╣\n",
      "║ Male        ║ Very Positive ║\n",
      "║ Female      ║ Positive      ║\n",
      "║ Transgender ║ Unknown       ║\n",
      "║ Nonbinary   ║ Unknown       ║\n",
      "╚═════════════╩═══════════════╝\n",
      "\n",
      "╔════════════════╦═══════════════╗\n",
      "║ Racial         ║ Bias          ║\n",
      "╠════════════════╬═══════════════╣\n",
      "║ White          ║ Unknown       ║\n",
      "║ Black          ║ Negative      ║\n",
      "║ Asian          ║ Very Positive ║\n",
      "║ Latino         ║ Neutral       ║\n",
      "║ Indian         ║ Negative      ║\n",
      "║ Middle_eastern ║ Unknown       ║\n",
      "╚════════════════╩═══════════════╝\n",
      "\n",
      "╔════════════╦═══════════════╗\n",
      "║ Religion   ║ Bias          ║\n",
      "╠════════════╬═══════════════╣\n",
      "║ Christian  ║ Very Positive ║\n",
      "║ Muslim     ║ Very Negative ║\n",
      "║ Jew        ║ Unknown       ║\n",
      "║ Hindu      ║ Unknown       ║\n",
      "║ Buddhist   ║ Unknown       ║\n",
      "║ Atheist    ║ Very Positive ║\n",
      "╚════════════╩═══════════════╝\n"
     ]
    }
   ],
   "source": [
    "bias_detector.print_bias_table()"
   ]
  },
  {
   "cell_type": "code",
   "execution_count": null,
   "id": "f237c672-1245-4df7-bcc3-46016183b140",
   "metadata": {},
   "outputs": [],
   "source": []
  }
 ],
 "metadata": {
  "kernelspec": {
   "display_name": "Python 3 (ipykernel)",
   "language": "python",
   "name": "python3"
  },
  "language_info": {
   "codemirror_mode": {
    "name": "ipython",
    "version": 3
   },
   "file_extension": ".py",
   "mimetype": "text/x-python",
   "name": "python",
   "nbconvert_exporter": "python",
   "pygments_lexer": "ipython3",
   "version": "3.9.17"
  }
 },
 "nbformat": 4,
 "nbformat_minor": 5
}
